{
 "cells": [
  {
   "cell_type": "markdown",
   "metadata": {},
   "source": [
    "### Iterators"
   ]
  },
  {
   "cell_type": "markdown",
   "metadata": {},
   "source": [
    "지난 강의에서 우리는 `next`이라는 개념을 사용하여 컬렉션을 반복하는 것에 접근할 수 있다는 것을 보았다.\n",
    "\n",
    "하지만 아직 해결되지 않은 몇 가지 단점들이 있었습니다!\n",
    "* 우리는 \"for\" 루프를 사용할 수 없습니다.\n",
    "* 우리가 반복을 소진하면(아마도 다음 호출), 우리는 본질적으로 객체에 대해 끝납니다.\n",
    "개체를 다시 반복하는 유일한 방법은 개체의 새 인스턴스를 만드는 것입니다."
   ]
  },
  {
   "cell_type": "markdown",
   "metadata": {},
   "source": [
    "먼저 for 루프에서 next를 사용할 수 있도록 하는 방법을 살펴봅시다."
   ]
  },
  {
   "cell_type": "markdown",
   "metadata": {},
   "source": [
    "`_next__`와 `StopIteration` 예외를 사용하는 이 아이디어는 정확히 파이썬이 하는 것입니다.\n",
    "\n",
    "그래서 어떻게든 우리가 다루고 있는 객체가 `next`와 함께 사용될 수 있다는 것을 파이썬에 알려야 합니다.\n",
    "\n",
    "이를 위해 우리는 `iterator` 타입의 객체를 만들어야합니다."
   ]
  },
  {
   "cell_type": "markdown",
   "metadata": {},
   "source": [
    "Iterators 는 아래를 구현하는 객체입니다\n",
    "* `__next__` method\n",
    "* 단순히 객체 자체를 반환하는 `__iter__` method"
   ]
  },
  {
   "cell_type": "markdown",
   "metadata": {},
   "source": [
    "이것이 다 입니다.\n",
    "iterator에게 있는 것은 `__iter__` and `__next__` 이라는 두 가지 메소드 그것 뿐입니다.\n"
   ]
  },
  {
   "cell_type": "markdown",
   "metadata": {},
   "source": [
    "`Squares` 예제로 돌아갑시다."
   ]
  },
  {
   "cell_type": "code",
   "execution_count": 1,
   "metadata": {
    "collapsed": true
   },
   "outputs": [],
   "source": [
    "class Squares:\n",
    "    def __init__(self, length):\n",
    "        self.length = length\n",
    "        self.i = 0\n",
    "        \n",
    "    def __iter__(self):\n",
    "        return self\n",
    "    \n",
    "    def __next__(self):\n",
    "        if self.i >= self.length:\n",
    "            raise StopIteration\n",
    "        else:\n",
    "            result = self.i ** 2\n",
    "            self.i += 1\n",
    "            return result"
   ]
  },
  {
   "cell_type": "markdown",
   "metadata": {},
   "source": [
    "우리는 여전히 `next`를 호출할 수 있습니다."
   ]
  },
  {
   "cell_type": "code",
   "execution_count": 2,
   "metadata": {
    "collapsed": true
   },
   "outputs": [],
   "source": [
    "sq = Squares(5)"
   ]
  },
  {
   "cell_type": "code",
   "execution_count": 3,
   "metadata": {},
   "outputs": [
    {
     "name": "stdout",
     "output_type": "stream",
     "text": [
      "0\n",
      "1\n",
      "4\n"
     ]
    }
   ],
   "source": [
    "print(next(sq))\n",
    "print(next(sq))\n",
    "print(next(sq))"
   ]
  },
  {
   "cell_type": "markdown",
   "metadata": {},
   "source": [
    "물론, 우리의 반복자는 여전히 그것을 \"restart\"할 수 없어 어려움을 겪고 있습니다. 우리는 단지 새로운 인스턴스를 만들어야 합니다:"
   ]
  },
  {
   "cell_type": "code",
   "execution_count": 4,
   "metadata": {
    "collapsed": true
   },
   "outputs": [],
   "source": [
    "sq = Squares(5)"
   ]
  },
  {
   "cell_type": "markdown",
   "metadata": {},
   "source": [
    "그러나 이제는 for 루프를 사용할 수도 있습니다:"
   ]
  },
  {
   "cell_type": "code",
   "execution_count": 5,
   "metadata": {},
   "outputs": [
    {
     "name": "stdout",
     "output_type": "stream",
     "text": [
      "0\n",
      "1\n",
      "4\n",
      "9\n",
      "16\n"
     ]
    }
   ],
   "source": [
    "for item in sq:\n",
    "    print(item)"
   ]
  },
  {
   "cell_type": "markdown",
   "metadata": {},
   "source": [
    "이제 `sq` 는 **소진되었으므로**, 다시 루프를 돌리면"
   ]
  },
  {
   "cell_type": "code",
   "execution_count": 6,
   "metadata": {
    "collapsed": true
   },
   "outputs": [],
   "source": [
    "for item in sq:\n",
    "    print(item)"
   ]
  },
  {
   "cell_type": "markdown",
   "metadata": {},
   "source": [
    "우리는 얻을 수 없습니다."
   ]
  },
  {
   "cell_type": "markdown",
   "metadata": {},
   "source": [
    "새 iterator를 만들기만 하면 됩니다."
   ]
  },
  {
   "cell_type": "code",
   "execution_count": 7,
   "metadata": {
    "collapsed": true
   },
   "outputs": [],
   "source": [
    "sq = Squares(5)"
   ]
  },
  {
   "cell_type": "code",
   "execution_count": 8,
   "metadata": {},
   "outputs": [
    {
     "name": "stdout",
     "output_type": "stream",
     "text": [
      "0\n",
      "1\n",
      "4\n",
      "9\n",
      "16\n"
     ]
    }
   ],
   "source": [
    "for item in sq:\n",
    "    print(item)"
   ]
  },
  {
   "cell_type": "markdown",
   "metadata": {},
   "source": [
    "파이썬의 내장 `next` 함수가 우리의 `__next__` 메서드를 호출하는 것처럼 파이썬은 내장 함수 `iter`를 가지고 있으며, 이 함수는 `__iter__` 메서드를 호출합니다:"
   ]
  },
  {
   "cell_type": "code",
   "execution_count": 9,
   "metadata": {
    "collapsed": true
   },
   "outputs": [],
   "source": [
    "sq = Squares(5)"
   ]
  },
  {
   "cell_type": "code",
   "execution_count": 10,
   "metadata": {},
   "outputs": [
    {
     "data": {
      "text/plain": [
       "1965579635736"
      ]
     },
     "execution_count": 10,
     "metadata": {},
     "output_type": "execute_result"
    }
   ],
   "source": [
    "id(sq)"
   ]
  },
  {
   "cell_type": "code",
   "execution_count": 11,
   "metadata": {},
   "outputs": [
    {
     "data": {
      "text/plain": [
       "1965579635736"
      ]
     },
     "execution_count": 11,
     "metadata": {},
     "output_type": "execute_result"
    }
   ],
   "source": [
    "id(sq.__iter__())"
   ]
  },
  {
   "cell_type": "code",
   "execution_count": 12,
   "metadata": {},
   "outputs": [
    {
     "data": {
      "text/plain": [
       "1965579635736"
      ]
     },
     "execution_count": 12,
     "metadata": {},
     "output_type": "execute_result"
    }
   ],
   "source": [
    "id(iter(sq))"
   ]
  },
  {
   "cell_type": "markdown",
   "metadata": {},
   "source": [
    "그리고 물론 우리는 우리의 iterator 객체에 list comprehension을 사용할 수도 있습니다."
   ]
  },
  {
   "cell_type": "code",
   "execution_count": 13,
   "metadata": {
    "collapsed": true
   },
   "outputs": [],
   "source": [
    "sq = Squares(5)"
   ]
  },
  {
   "cell_type": "code",
   "execution_count": 14,
   "metadata": {},
   "outputs": [
    {
     "data": {
      "text/plain": [
       "[0, 4, 16]"
      ]
     },
     "execution_count": 14,
     "metadata": {},
     "output_type": "execute_result"
    }
   ],
   "source": [
    "[item for item in sq if item%2==0]"
   ]
  },
  {
   "cell_type": "markdown",
   "metadata": {},
   "source": [
    "우리는 심지어 함수에 반복가능한 매개변수를 사용할 수 있습니다.\n"
   ]
  },
  {
   "cell_type": "code",
   "execution_count": 15,
   "metadata": {},
   "outputs": [
    {
     "data": {
      "text/plain": [
       "[(0, 0), (1, 1), (2, 4), (3, 9), (4, 16)]"
      ]
     },
     "execution_count": 15,
     "metadata": {},
     "output_type": "execute_result"
    }
   ],
   "source": [
    "sq = Squares(5)\n",
    "list(enumerate(sq))"
   ]
  },
  {
   "cell_type": "markdown",
   "metadata": {},
   "source": [
    "물론 모두 소진되고 다시 시도할 때는 조심해야합니다."
   ]
  },
  {
   "cell_type": "code",
   "execution_count": 16,
   "metadata": {},
   "outputs": [
    {
     "data": {
      "text/plain": [
       "[]"
      ]
     },
     "execution_count": 16,
     "metadata": {},
     "output_type": "execute_result"
    }
   ],
   "source": [
    "list(enumerate(sq))"
   ]
  },
  {
   "cell_type": "markdown",
   "metadata": {},
   "source": [
    "빈 리스트가 표시됩니다. 대신 새 iterator를 먼저 만들어야 합니다."
   ]
  },
  {
   "cell_type": "code",
   "execution_count": 17,
   "metadata": {},
   "outputs": [
    {
     "data": {
      "text/plain": [
       "[(0, 0), (1, 1), (2, 4), (3, 9), (4, 16)]"
      ]
     },
     "execution_count": 17,
     "metadata": {},
     "output_type": "execute_result"
    }
   ],
   "source": [
    "sq = Squares(5)\n",
    "list(enumerate(sq))"
   ]
  },
  {
   "cell_type": "markdown",
   "metadata": {},
   "source": [
    "우리는 심지어 그것에 `sorted` 함수를 사용할 수 있습니다."
   ]
  },
  {
   "cell_type": "code",
   "execution_count": 18,
   "metadata": {},
   "outputs": [
    {
     "data": {
      "text/plain": [
       "[16, 9, 4, 1, 0]"
      ]
     },
     "execution_count": 18,
     "metadata": {},
     "output_type": "execute_result"
    }
   ],
   "source": [
    "sq = Squares(5)\n",
    "sorted(sq, reverse=True)"
   ]
  },
  {
   "cell_type": "markdown",
   "metadata": {},
   "source": [
    "#### Python Iterators Summary"
   ]
  },
  {
   "cell_type": "markdown",
   "metadata": {},
   "source": [
    "Iterators 는 `__iter__` 과 `__next__` 메소드를 구현하는 객체입니다.\n",
    "\n",
    "iterator의 `__iter__` 메소드는 단지 자기자신을 리턴합니다.\n",
    "\n",
    "반복을 통해 모두 **소진**하면 더 이상 반복할 수 없습니다."
   ]
  },
  {
   "cell_type": "markdown",
   "metadata": {},
   "source": [
    "파이썬이 반복자 객체에 `for` 루프를 적용하는 방식은 기본적으로 `while` 루프와 `StopIteration` 예외를 통해 본 것입니다."
   ]
  },
  {
   "cell_type": "code",
   "execution_count": 19,
   "metadata": {},
   "outputs": [
    {
     "name": "stdout",
     "output_type": "stream",
     "text": [
      "0\n",
      "1\n",
      "4\n",
      "9\n",
      "16\n"
     ]
    }
   ],
   "source": [
    "sq = Squares(5)\n",
    "while True:\n",
    "    try:\n",
    "        print(next(sq))\n",
    "    except StopIteration:\n",
    "        break"
   ]
  },
  {
   "cell_type": "markdown",
   "metadata": {},
   "source": [
    "실제로 우리는 `iterator`를 조금만 조정하면 이를 쉽게 확인할 수 있습니다"
   ]
  },
  {
   "cell_type": "code",
   "execution_count": 20,
   "metadata": {
    "collapsed": true
   },
   "outputs": [],
   "source": [
    "class Squares:\n",
    "    def __init__(self, length):\n",
    "        self.length = length\n",
    "        self.i = 0\n",
    "        \n",
    "    def __iter__(self):\n",
    "        print('calling __iter__')\n",
    "        return self\n",
    "    \n",
    "    def __next__(self):\n",
    "        print('calling __next__')\n",
    "        if self.i >= self.length:\n",
    "            raise StopIteration\n",
    "        else:\n",
    "            result = self.i ** 2\n",
    "            self.i += 1\n",
    "            return result"
   ]
  },
  {
   "cell_type": "code",
   "execution_count": 21,
   "metadata": {
    "collapsed": true
   },
   "outputs": [],
   "source": [
    "sq = Squares(5)"
   ]
  },
  {
   "cell_type": "code",
   "execution_count": 22,
   "metadata": {},
   "outputs": [
    {
     "name": "stdout",
     "output_type": "stream",
     "text": [
      "calling __iter__\n",
      "calling __next__\n",
      "0\n",
      "calling __next__\n",
      "1\n",
      "calling __next__\n",
      "4\n",
      "calling __next__\n",
      "9\n",
      "calling __next__\n",
      "16\n",
      "calling __next__\n"
     ]
    }
   ],
   "source": [
    "for i in sq:\n",
    "    print(i)"
   ]
  },
  {
   "cell_type": "markdown",
   "metadata": {},
   "source": [
    "파이썬이 `__next__`를 호출하는 것을 볼 수 있듯이(`StopItation` 예외가 발생하면 중지됨).\n",
    "\n",
    "마찬가지로 `__iter__` 메소드가 호출되었다는 것을 알 수 있습니다."
   ]
  },
  {
   "cell_type": "markdown",
   "metadata": {},
   "source": [
    "사실 우리는 이것이 다른 곳에서도 일어나는 것을 보게 될 것입니다."
   ]
  },
  {
   "cell_type": "code",
   "execution_count": 23,
   "metadata": {},
   "outputs": [
    {
     "name": "stdout",
     "output_type": "stream",
     "text": [
      "calling __iter__\n",
      "calling __next__\n",
      "calling __next__\n",
      "calling __next__\n",
      "calling __next__\n",
      "calling __next__\n",
      "calling __next__\n"
     ]
    },
    {
     "data": {
      "text/plain": [
       "[0, 4, 16]"
      ]
     },
     "execution_count": 23,
     "metadata": {},
     "output_type": "execute_result"
    }
   ],
   "source": [
    "sq = Squares(5)\n",
    "[item for item in sq if item%2==0]"
   ]
  },
  {
   "cell_type": "code",
   "execution_count": 24,
   "metadata": {},
   "outputs": [
    {
     "name": "stdout",
     "output_type": "stream",
     "text": [
      "calling __iter__\n",
      "calling __next__\n",
      "calling __next__\n",
      "calling __next__\n",
      "calling __next__\n",
      "calling __next__\n",
      "calling __next__\n"
     ]
    },
    {
     "data": {
      "text/plain": [
       "[(0, 0), (1, 1), (2, 4), (3, 9), (4, 16)]"
      ]
     },
     "execution_count": 24,
     "metadata": {},
     "output_type": "execute_result"
    }
   ],
   "source": [
    "sq = Squares(5)\n",
    "list(enumerate(sq))"
   ]
  },
  {
   "cell_type": "code",
   "execution_count": 25,
   "metadata": {},
   "outputs": [
    {
     "name": "stdout",
     "output_type": "stream",
     "text": [
      "calling __iter__\n",
      "calling __next__\n",
      "calling __next__\n",
      "calling __next__\n",
      "calling __next__\n",
      "calling __next__\n",
      "calling __next__\n"
     ]
    },
    {
     "data": {
      "text/plain": [
       "[16, 9, 4, 1, 0]"
      ]
     },
     "execution_count": 25,
     "metadata": {},
     "output_type": "execute_result"
    }
   ],
   "source": [
    "sq = Squares(5)\n",
    "sorted(sq, reverse=True)"
   ]
  },
  {
   "cell_type": "markdown",
   "metadata": {},
   "source": [
    "왜 `__iter__`이 호출됩니까?\n",
    "Why is `__iter__` being called? After all, it just returns itself!\n",
    "\n",
    "그것이 다음 강의의 주제입니다.\n",
    "\n",
    "그러나 python이 수행하는 작업을 어떻게 모방할 수 있는지 알아보겠습니다."
   ]
  },
  {
   "cell_type": "code",
   "execution_count": 26,
   "metadata": {},
   "outputs": [
    {
     "name": "stdout",
     "output_type": "stream",
     "text": [
      "calling __iter__\n",
      "1965579704808 1965579704808\n",
      "calling __next__\n",
      "0\n",
      "calling __next__\n",
      "1\n",
      "calling __next__\n",
      "4\n",
      "calling __next__\n",
      "9\n",
      "calling __next__\n",
      "16\n",
      "calling __next__\n"
     ]
    }
   ],
   "source": [
    "sq = Squares(5)\n",
    "sq_iterator = iter(sq)\n",
    "print(id(sq), id(sq_iterator))\n",
    "while True:\n",
    "    try:\n",
    "        item = next(sq_iterator)\n",
    "        print(item)\n",
    "    except StopIteration:\n",
    "        break"
   ]
  },
  {
   "cell_type": "markdown",
   "metadata": {},
   "source": [
    "보시는 바와 같이 먼저 `iter` 함수를 사용하여 `sq`에서 iterator를 요청합니다. 그리고 나서 iterate는 반환된 iterator를 사용합니다. iterator의 경우 `iter` 함수는 iterator 자체를 다시 가져옵니다."
   ]
  },
  {
   "cell_type": "code",
   "execution_count": null,
   "metadata": {
    "collapsed": true
   },
   "outputs": [],
   "source": []
  }
 ],
 "metadata": {
  "kernelspec": {
   "display_name": "Python 3",
   "language": "python",
   "name": "python3"
  },
  "language_info": {
   "codemirror_mode": {
    "name": "ipython",
    "version": 3
   },
   "file_extension": ".py",
   "mimetype": "text/x-python",
   "name": "python",
   "nbconvert_exporter": "python",
   "pygments_lexer": "ipython3",
   "version": "3.6.2"
  }
 },
 "nbformat": 4,
 "nbformat_minor": 2
}